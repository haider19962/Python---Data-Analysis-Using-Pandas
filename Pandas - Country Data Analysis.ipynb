{
 "cells": [
  {
   "cell_type": "markdown",
   "metadata": {},
   "source": [
    "# Data Analysis Using Pandas\n",
    "In this program I perform data analysis on two files that are downloaded from the internet using Pandas module in Python. One data file is information about countries and the other contains data related to covid in the countries. I answer a number of questions which are written in markdown, the cell below the markdown contains the code.\n"
   ]
  },
  {
   "cell_type": "code",
   "execution_count": 1,
   "metadata": {},
   "outputs": [
    {
     "data": {
      "text/html": [
       "<div>\n",
       "<style scoped>\n",
       "    .dataframe tbody tr th:only-of-type {\n",
       "        vertical-align: middle;\n",
       "    }\n",
       "\n",
       "    .dataframe tbody tr th {\n",
       "        vertical-align: top;\n",
       "    }\n",
       "\n",
       "    .dataframe thead th {\n",
       "        text-align: right;\n",
       "    }\n",
       "</style>\n",
       "<table border=\"1\" class=\"dataframe\">\n",
       "  <thead>\n",
       "    <tr style=\"text-align: right;\">\n",
       "      <th></th>\n",
       "      <th>location</th>\n",
       "      <th>continent</th>\n",
       "      <th>population</th>\n",
       "      <th>life_expectancy</th>\n",
       "      <th>hospital_beds_per_thousand</th>\n",
       "      <th>gdp_per_capita</th>\n",
       "    </tr>\n",
       "  </thead>\n",
       "  <tbody>\n",
       "    <tr>\n",
       "      <th>0</th>\n",
       "      <td>Afghanistan</td>\n",
       "      <td>Asia</td>\n",
       "      <td>38928341.0</td>\n",
       "      <td>64.83</td>\n",
       "      <td>0.50</td>\n",
       "      <td>1803.987</td>\n",
       "    </tr>\n",
       "    <tr>\n",
       "      <th>1</th>\n",
       "      <td>Albania</td>\n",
       "      <td>Europe</td>\n",
       "      <td>2877800.0</td>\n",
       "      <td>78.57</td>\n",
       "      <td>2.89</td>\n",
       "      <td>11803.431</td>\n",
       "    </tr>\n",
       "    <tr>\n",
       "      <th>2</th>\n",
       "      <td>Algeria</td>\n",
       "      <td>Africa</td>\n",
       "      <td>43851043.0</td>\n",
       "      <td>76.88</td>\n",
       "      <td>1.90</td>\n",
       "      <td>13913.839</td>\n",
       "    </tr>\n",
       "    <tr>\n",
       "      <th>3</th>\n",
       "      <td>Andorra</td>\n",
       "      <td>Europe</td>\n",
       "      <td>77265.0</td>\n",
       "      <td>83.73</td>\n",
       "      <td>NaN</td>\n",
       "      <td>NaN</td>\n",
       "    </tr>\n",
       "    <tr>\n",
       "      <th>4</th>\n",
       "      <td>Angola</td>\n",
       "      <td>Africa</td>\n",
       "      <td>32866268.0</td>\n",
       "      <td>61.15</td>\n",
       "      <td>NaN</td>\n",
       "      <td>5819.495</td>\n",
       "    </tr>\n",
       "    <tr>\n",
       "      <th>...</th>\n",
       "      <td>...</td>\n",
       "      <td>...</td>\n",
       "      <td>...</td>\n",
       "      <td>...</td>\n",
       "      <td>...</td>\n",
       "      <td>...</td>\n",
       "    </tr>\n",
       "    <tr>\n",
       "      <th>205</th>\n",
       "      <td>Vietnam</td>\n",
       "      <td>Asia</td>\n",
       "      <td>97338583.0</td>\n",
       "      <td>75.40</td>\n",
       "      <td>2.60</td>\n",
       "      <td>6171.884</td>\n",
       "    </tr>\n",
       "    <tr>\n",
       "      <th>206</th>\n",
       "      <td>Western Sahara</td>\n",
       "      <td>Africa</td>\n",
       "      <td>597330.0</td>\n",
       "      <td>70.26</td>\n",
       "      <td>NaN</td>\n",
       "      <td>NaN</td>\n",
       "    </tr>\n",
       "    <tr>\n",
       "      <th>207</th>\n",
       "      <td>Yemen</td>\n",
       "      <td>Asia</td>\n",
       "      <td>29825968.0</td>\n",
       "      <td>66.12</td>\n",
       "      <td>0.70</td>\n",
       "      <td>1479.147</td>\n",
       "    </tr>\n",
       "    <tr>\n",
       "      <th>208</th>\n",
       "      <td>Zambia</td>\n",
       "      <td>Africa</td>\n",
       "      <td>18383956.0</td>\n",
       "      <td>63.89</td>\n",
       "      <td>2.00</td>\n",
       "      <td>3689.251</td>\n",
       "    </tr>\n",
       "    <tr>\n",
       "      <th>209</th>\n",
       "      <td>Zimbabwe</td>\n",
       "      <td>Africa</td>\n",
       "      <td>14862927.0</td>\n",
       "      <td>61.49</td>\n",
       "      <td>1.70</td>\n",
       "      <td>1899.775</td>\n",
       "    </tr>\n",
       "  </tbody>\n",
       "</table>\n",
       "<p>210 rows × 6 columns</p>\n",
       "</div>"
      ],
      "text/plain": [
       "           location continent  population  life_expectancy  \\\n",
       "0       Afghanistan      Asia  38928341.0            64.83   \n",
       "1           Albania    Europe   2877800.0            78.57   \n",
       "2           Algeria    Africa  43851043.0            76.88   \n",
       "3           Andorra    Europe     77265.0            83.73   \n",
       "4            Angola    Africa  32866268.0            61.15   \n",
       "..              ...       ...         ...              ...   \n",
       "205         Vietnam      Asia  97338583.0            75.40   \n",
       "206  Western Sahara    Africa    597330.0            70.26   \n",
       "207           Yemen      Asia  29825968.0            66.12   \n",
       "208          Zambia    Africa  18383956.0            63.89   \n",
       "209        Zimbabwe    Africa  14862927.0            61.49   \n",
       "\n",
       "     hospital_beds_per_thousand  gdp_per_capita  \n",
       "0                          0.50        1803.987  \n",
       "1                          2.89       11803.431  \n",
       "2                          1.90       13913.839  \n",
       "3                           NaN             NaN  \n",
       "4                           NaN        5819.495  \n",
       "..                          ...             ...  \n",
       "205                        2.60        6171.884  \n",
       "206                         NaN             NaN  \n",
       "207                        0.70        1479.147  \n",
       "208                        2.00        3689.251  \n",
       "209                        1.70        1899.775  \n",
       "\n",
       "[210 rows x 6 columns]"
      ]
     },
     "execution_count": 1,
     "metadata": {},
     "output_type": "execute_result"
    }
   ],
   "source": [
    "import pandas as pd\n",
    "from urllib.request import urlretrieve\n",
    "urlretrieve('https://gist.githubusercontent.com/aakashns/28b2e504b3350afd9bdb157893f9725c/raw/994b65665757f4f8887db1c85986a897abb23d84/countries.csv', \n",
    "            'countries.csv')\n",
    "countries_df = pd.read_csv('countries.csv')\n",
    "countries_df"
   ]
  },
  {
   "cell_type": "markdown",
   "metadata": {},
   "source": [
    "__Q1: How many countries does the dataframe contain?__"
   ]
  },
  {
   "cell_type": "code",
   "execution_count": 3,
   "metadata": {},
   "outputs": [
    {
     "data": {
      "text/plain": [
       "210"
      ]
     },
     "execution_count": 3,
     "metadata": {},
     "output_type": "execute_result"
    }
   ],
   "source": [
    "num_countries = countries_df.shape[0]\n",
    "num_countries"
   ]
  },
  {
   "cell_type": "markdown",
   "metadata": {},
   "source": [
    "__Q2: Retrieve a list of continents from the dataframe?__"
   ]
  },
  {
   "cell_type": "code",
   "execution_count": 11,
   "metadata": {},
   "outputs": [
    {
     "name": "stdout",
     "output_type": "stream",
     "text": [
      "['Asia' 'Europe' 'Africa' 'North America' 'South America' 'Oceania']\n",
      "['Asia' 'Europe' 'Africa' 'North America' 'South America' 'Oceania']\n"
     ]
    }
   ],
   "source": [
    "continents = countries_df['continent'].unique()\n",
    "continents1 = pd.unique(countries_df['continent'])\n",
    "print(continents)\n",
    "print(continents1)"
   ]
  },
  {
   "cell_type": "markdown",
   "metadata": {},
   "source": [
    "__Q3: What is the total population of all the countries listed in this dataset?__"
   ]
  },
  {
   "cell_type": "code",
   "execution_count": 13,
   "metadata": {},
   "outputs": [
    {
     "data": {
      "text/plain": [
       "7757980095.0"
      ]
     },
     "execution_count": 13,
     "metadata": {},
     "output_type": "execute_result"
    }
   ],
   "source": [
    "total_population = countries_df['population'].sum()\n",
    "total_population"
   ]
  },
  {
   "cell_type": "markdown",
   "metadata": {},
   "source": [
    "__Q4: What is the overall life expectancy across in the world?__"
   ]
  },
  {
   "cell_type": "code",
   "execution_count": 16,
   "metadata": {},
   "outputs": [
    {
     "name": "stdout",
     "output_type": "stream",
     "text": [
      "72.72165193409664\n"
     ]
    }
   ],
   "source": [
    "avglifeexpectancy = ((countries_df['population'] / total_population) * countries_df['life_expectancy']).sum() \n",
    "print(avglifeexpectancy)"
   ]
  },
  {
   "cell_type": "markdown",
   "metadata": {},
   "source": [
    "**Q5: Create a dataframe containing 10 countries with the highest population.**"
   ]
  },
  {
   "cell_type": "code",
   "execution_count": 19,
   "metadata": {},
   "outputs": [
    {
     "name": "stdout",
     "output_type": "stream",
     "text": [
      "          location      continent    population  life_expectancy  \\\n",
      "41           China           Asia  1.439324e+09            76.91   \n",
      "90           India           Asia  1.380004e+09            69.66   \n",
      "199  United States  North America  3.310026e+08            78.86   \n",
      "91       Indonesia           Asia  2.735236e+08            71.72   \n",
      "145       Pakistan           Asia  2.208923e+08            67.27   \n",
      "27          Brazil  South America  2.125594e+08            75.88   \n",
      "141        Nigeria         Africa  2.061396e+08            54.69   \n",
      "15      Bangladesh           Asia  1.646894e+08            72.59   \n",
      "157         Russia         Europe  1.459345e+08            72.58   \n",
      "125         Mexico  North America  1.289328e+08            75.05   \n",
      "\n",
      "     hospital_beds_per_thousand  gdp_per_capita  \n",
      "41                         4.34       15308.712  \n",
      "90                         0.53        6426.674  \n",
      "199                        2.77       54225.446  \n",
      "91                         1.04       11188.744  \n",
      "145                        0.60        5034.708  \n",
      "27                         2.20       14103.452  \n",
      "141                         NaN        5338.454  \n",
      "15                         0.80        3523.984  \n",
      "157                        8.05       24765.954  \n",
      "125                        1.38       17336.469  \n"
     ]
    }
   ],
   "source": [
    "most_populous = countries_df.sort_values(['population'], ascending = False).head(10)\n",
    "print(most_populous)"
   ]
  },
  {
   "cell_type": "markdown",
   "metadata": {},
   "source": [
    "**Q6: Add a new column in `countries_df` to record the overall GDP per country (product of population & per capita GDP).**\n",
    "\n"
   ]
  },
  {
   "cell_type": "code",
   "execution_count": 21,
   "metadata": {},
   "outputs": [
    {
     "data": {
      "text/html": [
       "<div>\n",
       "<style scoped>\n",
       "    .dataframe tbody tr th:only-of-type {\n",
       "        vertical-align: middle;\n",
       "    }\n",
       "\n",
       "    .dataframe tbody tr th {\n",
       "        vertical-align: top;\n",
       "    }\n",
       "\n",
       "    .dataframe thead th {\n",
       "        text-align: right;\n",
       "    }\n",
       "</style>\n",
       "<table border=\"1\" class=\"dataframe\">\n",
       "  <thead>\n",
       "    <tr style=\"text-align: right;\">\n",
       "      <th></th>\n",
       "      <th>location</th>\n",
       "      <th>continent</th>\n",
       "      <th>population</th>\n",
       "      <th>life_expectancy</th>\n",
       "      <th>hospital_beds_per_thousand</th>\n",
       "      <th>gdp_per_capita</th>\n",
       "      <th>gdp</th>\n",
       "    </tr>\n",
       "  </thead>\n",
       "  <tbody>\n",
       "    <tr>\n",
       "      <th>0</th>\n",
       "      <td>Afghanistan</td>\n",
       "      <td>Asia</td>\n",
       "      <td>38928341.0</td>\n",
       "      <td>64.83</td>\n",
       "      <td>0.50</td>\n",
       "      <td>1803.987</td>\n",
       "      <td>7.022622e+10</td>\n",
       "    </tr>\n",
       "    <tr>\n",
       "      <th>1</th>\n",
       "      <td>Albania</td>\n",
       "      <td>Europe</td>\n",
       "      <td>2877800.0</td>\n",
       "      <td>78.57</td>\n",
       "      <td>2.89</td>\n",
       "      <td>11803.431</td>\n",
       "      <td>3.396791e+10</td>\n",
       "    </tr>\n",
       "    <tr>\n",
       "      <th>2</th>\n",
       "      <td>Algeria</td>\n",
       "      <td>Africa</td>\n",
       "      <td>43851043.0</td>\n",
       "      <td>76.88</td>\n",
       "      <td>1.90</td>\n",
       "      <td>13913.839</td>\n",
       "      <td>6.101364e+11</td>\n",
       "    </tr>\n",
       "    <tr>\n",
       "      <th>3</th>\n",
       "      <td>Andorra</td>\n",
       "      <td>Europe</td>\n",
       "      <td>77265.0</td>\n",
       "      <td>83.73</td>\n",
       "      <td>NaN</td>\n",
       "      <td>NaN</td>\n",
       "      <td>NaN</td>\n",
       "    </tr>\n",
       "    <tr>\n",
       "      <th>4</th>\n",
       "      <td>Angola</td>\n",
       "      <td>Africa</td>\n",
       "      <td>32866268.0</td>\n",
       "      <td>61.15</td>\n",
       "      <td>NaN</td>\n",
       "      <td>5819.495</td>\n",
       "      <td>1.912651e+11</td>\n",
       "    </tr>\n",
       "    <tr>\n",
       "      <th>5</th>\n",
       "      <td>Anguilla</td>\n",
       "      <td>North America</td>\n",
       "      <td>15002.0</td>\n",
       "      <td>81.88</td>\n",
       "      <td>NaN</td>\n",
       "      <td>NaN</td>\n",
       "      <td>NaN</td>\n",
       "    </tr>\n",
       "    <tr>\n",
       "      <th>6</th>\n",
       "      <td>Antigua and Barbuda</td>\n",
       "      <td>North America</td>\n",
       "      <td>97928.0</td>\n",
       "      <td>77.02</td>\n",
       "      <td>3.80</td>\n",
       "      <td>21490.943</td>\n",
       "      <td>2.104565e+09</td>\n",
       "    </tr>\n",
       "    <tr>\n",
       "      <th>7</th>\n",
       "      <td>Argentina</td>\n",
       "      <td>South America</td>\n",
       "      <td>45195777.0</td>\n",
       "      <td>76.67</td>\n",
       "      <td>5.00</td>\n",
       "      <td>18933.907</td>\n",
       "      <td>8.557326e+11</td>\n",
       "    </tr>\n",
       "    <tr>\n",
       "      <th>8</th>\n",
       "      <td>Armenia</td>\n",
       "      <td>Asia</td>\n",
       "      <td>2963234.0</td>\n",
       "      <td>75.09</td>\n",
       "      <td>4.20</td>\n",
       "      <td>8787.580</td>\n",
       "      <td>2.603966e+10</td>\n",
       "    </tr>\n",
       "    <tr>\n",
       "      <th>9</th>\n",
       "      <td>Aruba</td>\n",
       "      <td>North America</td>\n",
       "      <td>106766.0</td>\n",
       "      <td>76.29</td>\n",
       "      <td>NaN</td>\n",
       "      <td>35973.781</td>\n",
       "      <td>3.840777e+09</td>\n",
       "    </tr>\n",
       "  </tbody>\n",
       "</table>\n",
       "</div>"
      ],
      "text/plain": [
       "              location      continent  population  life_expectancy  \\\n",
       "0          Afghanistan           Asia  38928341.0            64.83   \n",
       "1              Albania         Europe   2877800.0            78.57   \n",
       "2              Algeria         Africa  43851043.0            76.88   \n",
       "3              Andorra         Europe     77265.0            83.73   \n",
       "4               Angola         Africa  32866268.0            61.15   \n",
       "5             Anguilla  North America     15002.0            81.88   \n",
       "6  Antigua and Barbuda  North America     97928.0            77.02   \n",
       "7            Argentina  South America  45195777.0            76.67   \n",
       "8              Armenia           Asia   2963234.0            75.09   \n",
       "9                Aruba  North America    106766.0            76.29   \n",
       "\n",
       "   hospital_beds_per_thousand  gdp_per_capita           gdp  \n",
       "0                        0.50        1803.987  7.022622e+10  \n",
       "1                        2.89       11803.431  3.396791e+10  \n",
       "2                        1.90       13913.839  6.101364e+11  \n",
       "3                         NaN             NaN           NaN  \n",
       "4                         NaN        5819.495  1.912651e+11  \n",
       "5                         NaN             NaN           NaN  \n",
       "6                        3.80       21490.943  2.104565e+09  \n",
       "7                        5.00       18933.907  8.557326e+11  \n",
       "8                        4.20        8787.580  2.603966e+10  \n",
       "9                         NaN       35973.781  3.840777e+09  "
      ]
     },
     "execution_count": 21,
     "metadata": {},
     "output_type": "execute_result"
    }
   ],
   "source": [
    "countries_df['gdp'] = countries_df['population'] * countries_df['gdp_per_capita']\n",
    "countries_df.head(10)"
   ]
  },
  {
   "cell_type": "markdown",
   "metadata": {},
   "source": [
    "**Q7: Create a dataframe containing 10 countries with the lowest GDP per capita, among the counties with population greater than 100 million.**"
   ]
  },
  {
   "cell_type": "code",
   "execution_count": 23,
   "metadata": {},
   "outputs": [
    {
     "name": "stdout",
     "output_type": "stream",
     "text": [
      "        location      continent    population  life_expectancy  \\\n",
      "63      Ethiopia         Africa  1.149636e+08            66.60   \n",
      "15    Bangladesh           Asia  1.646894e+08            72.59   \n",
      "145     Pakistan           Asia  2.208923e+08            67.27   \n",
      "141      Nigeria         Africa  2.061396e+08            54.69   \n",
      "90         India           Asia  1.380004e+09            69.66   \n",
      "151  Philippines           Asia  1.095811e+08            71.23   \n",
      "58         Egypt         Africa  1.023344e+08            71.99   \n",
      "91     Indonesia           Asia  2.735236e+08            71.72   \n",
      "27        Brazil  South America  2.125594e+08            75.88   \n",
      "41         China           Asia  1.439324e+09            76.91   \n",
      "\n",
      "     hospital_beds_per_thousand  gdp_per_capita           gdp  \n",
      "63                         0.30        1729.927  1.988786e+11  \n",
      "15                         0.80        3523.984  5.803628e+11  \n",
      "145                        0.60        5034.708  1.112128e+12  \n",
      "141                         NaN        5338.454  1.100467e+12  \n",
      "90                         0.53        6426.674  8.868838e+12  \n",
      "151                        1.00        7599.188  8.327273e+11  \n",
      "58                         1.60       10550.206  1.079649e+12  \n",
      "91                         1.04       11188.744  3.060386e+12  \n",
      "27                         2.20       14103.452  2.997821e+12  \n",
      "41                         4.34       15308.712  2.203419e+13  \n"
     ]
    }
   ],
   "source": [
    "lowestgdp_df = countries_df[countries_df['population'] > 100e6].sort_values('gdp_per_capita', ascending = True).head(10)\n",
    "print(lowestgdp_df)"
   ]
  },
  {
   "cell_type": "markdown",
   "metadata": {},
   "source": [
    "**Q8: Create a data frame that counts the number countries in each continent?**"
   ]
  },
  {
   "cell_type": "code",
   "execution_count": 28,
   "metadata": {},
   "outputs": [
    {
     "name": "stdout",
     "output_type": "stream",
     "text": [
      "continent\n",
      "Africa           55\n",
      "Asia             47\n",
      "Europe           51\n",
      "North America    36\n",
      "Oceania           8\n",
      "South America    13\n",
      "Name: location, dtype: int64\n"
     ]
    }
   ],
   "source": [
    "country_count = countries_df.groupby('continent')['location'].count()\n",
    "print(country_count)"
   ]
  },
  {
   "cell_type": "markdown",
   "metadata": {},
   "source": [
    "**Q9: Create a data frame showing the total population of each continent.**\n"
   ]
  },
  {
   "cell_type": "code",
   "execution_count": 29,
   "metadata": {},
   "outputs": [
    {
     "name": "stdout",
     "output_type": "stream",
     "text": [
      "continent\n",
      "Africa           1.339424e+09\n",
      "Asia             4.607388e+09\n",
      "Europe           7.485062e+08\n",
      "North America    5.912425e+08\n",
      "Oceania          4.095832e+07\n",
      "South America    4.304611e+08\n",
      "Name: population, dtype: float64\n"
     ]
    }
   ],
   "source": [
    "population_count = countries_df.groupby('continent')['population'].sum()\n",
    "print(population_count)"
   ]
  },
  {
   "cell_type": "markdown",
   "metadata": {},
   "source": [
    "Downloading another CSV file containing overall Covid-19 stats for various countires, and read the data into another Pandas data frame."
   ]
  },
  {
   "cell_type": "code",
   "execution_count": 30,
   "metadata": {},
   "outputs": [
    {
     "data": {
      "text/plain": [
       "('covid-countries-data.csv', <http.client.HTTPMessage at 0x1e565cd70d0>)"
      ]
     },
     "execution_count": 30,
     "metadata": {},
     "output_type": "execute_result"
    }
   ],
   "source": [
    "urlretrieve('https://gist.githubusercontent.com/aakashns/b2a968a6cfd9fbbb0ff3d6bd0f26262b/raw/b115ed1dfa17f10fc88bf966236cd4d9032f1df8/covid-countries-data.csv', \n",
    "            'covid-countries-data.csv')"
   ]
  },
  {
   "cell_type": "code",
   "execution_count": 32,
   "metadata": {},
   "outputs": [
    {
     "data": {
      "text/html": [
       "<div>\n",
       "<style scoped>\n",
       "    .dataframe tbody tr th:only-of-type {\n",
       "        vertical-align: middle;\n",
       "    }\n",
       "\n",
       "    .dataframe tbody tr th {\n",
       "        vertical-align: top;\n",
       "    }\n",
       "\n",
       "    .dataframe thead th {\n",
       "        text-align: right;\n",
       "    }\n",
       "</style>\n",
       "<table border=\"1\" class=\"dataframe\">\n",
       "  <thead>\n",
       "    <tr style=\"text-align: right;\">\n",
       "      <th></th>\n",
       "      <th>location</th>\n",
       "      <th>total_cases</th>\n",
       "      <th>total_deaths</th>\n",
       "      <th>total_tests</th>\n",
       "    </tr>\n",
       "  </thead>\n",
       "  <tbody>\n",
       "    <tr>\n",
       "      <th>0</th>\n",
       "      <td>Afghanistan</td>\n",
       "      <td>38243.0</td>\n",
       "      <td>1409.0</td>\n",
       "      <td>NaN</td>\n",
       "    </tr>\n",
       "    <tr>\n",
       "      <th>1</th>\n",
       "      <td>Albania</td>\n",
       "      <td>9728.0</td>\n",
       "      <td>296.0</td>\n",
       "      <td>NaN</td>\n",
       "    </tr>\n",
       "    <tr>\n",
       "      <th>2</th>\n",
       "      <td>Algeria</td>\n",
       "      <td>45158.0</td>\n",
       "      <td>1525.0</td>\n",
       "      <td>NaN</td>\n",
       "    </tr>\n",
       "    <tr>\n",
       "      <th>3</th>\n",
       "      <td>Andorra</td>\n",
       "      <td>1199.0</td>\n",
       "      <td>53.0</td>\n",
       "      <td>NaN</td>\n",
       "    </tr>\n",
       "    <tr>\n",
       "      <th>4</th>\n",
       "      <td>Angola</td>\n",
       "      <td>2729.0</td>\n",
       "      <td>109.0</td>\n",
       "      <td>NaN</td>\n",
       "    </tr>\n",
       "    <tr>\n",
       "      <th>...</th>\n",
       "      <td>...</td>\n",
       "      <td>...</td>\n",
       "      <td>...</td>\n",
       "      <td>...</td>\n",
       "    </tr>\n",
       "    <tr>\n",
       "      <th>207</th>\n",
       "      <td>Western Sahara</td>\n",
       "      <td>766.0</td>\n",
       "      <td>1.0</td>\n",
       "      <td>NaN</td>\n",
       "    </tr>\n",
       "    <tr>\n",
       "      <th>208</th>\n",
       "      <td>World</td>\n",
       "      <td>26059065.0</td>\n",
       "      <td>863535.0</td>\n",
       "      <td>NaN</td>\n",
       "    </tr>\n",
       "    <tr>\n",
       "      <th>209</th>\n",
       "      <td>Yemen</td>\n",
       "      <td>1976.0</td>\n",
       "      <td>571.0</td>\n",
       "      <td>NaN</td>\n",
       "    </tr>\n",
       "    <tr>\n",
       "      <th>210</th>\n",
       "      <td>Zambia</td>\n",
       "      <td>12415.0</td>\n",
       "      <td>292.0</td>\n",
       "      <td>NaN</td>\n",
       "    </tr>\n",
       "    <tr>\n",
       "      <th>211</th>\n",
       "      <td>Zimbabwe</td>\n",
       "      <td>6638.0</td>\n",
       "      <td>206.0</td>\n",
       "      <td>97272.0</td>\n",
       "    </tr>\n",
       "  </tbody>\n",
       "</table>\n",
       "<p>212 rows × 4 columns</p>\n",
       "</div>"
      ],
      "text/plain": [
       "           location  total_cases  total_deaths  total_tests\n",
       "0       Afghanistan      38243.0        1409.0          NaN\n",
       "1           Albania       9728.0         296.0          NaN\n",
       "2           Algeria      45158.0        1525.0          NaN\n",
       "3           Andorra       1199.0          53.0          NaN\n",
       "4            Angola       2729.0         109.0          NaN\n",
       "..              ...          ...           ...          ...\n",
       "207  Western Sahara        766.0           1.0          NaN\n",
       "208           World   26059065.0      863535.0          NaN\n",
       "209           Yemen       1976.0         571.0          NaN\n",
       "210          Zambia      12415.0         292.0          NaN\n",
       "211        Zimbabwe       6638.0         206.0      97272.0\n",
       "\n",
       "[212 rows x 4 columns]"
      ]
     },
     "execution_count": 32,
     "metadata": {},
     "output_type": "execute_result"
    }
   ],
   "source": [
    "covid_data_df = pd.read_csv('covid-countries-data.csv')\n",
    "covid_data_df"
   ]
  },
  {
   "cell_type": "markdown",
   "metadata": {},
   "source": [
    "**Q10: Count the number of countries for which the `total_tests` data is missing.**"
   ]
  },
  {
   "cell_type": "code",
   "execution_count": 52,
   "metadata": {},
   "outputs": [
    {
     "name": "stdout",
     "output_type": "stream",
     "text": [
      "122\n"
     ]
    }
   ],
   "source": [
    "total_test_missing_count = covid_data_df ['total_tests'].isna().sum()\n",
    "print(total_test_missing_count)"
   ]
  },
  {
   "cell_type": "markdown",
   "metadata": {},
   "source": [
    "**Q11: Merge `countries_df` with `covid_data_df` on the `location` column.**"
   ]
  },
  {
   "cell_type": "code",
   "execution_count": 55,
   "metadata": {},
   "outputs": [
    {
     "name": "stdout",
     "output_type": "stream",
     "text": [
      "           location continent  population  life_expectancy  \\\n",
      "0       Afghanistan      Asia  38928341.0            64.83   \n",
      "1           Albania    Europe   2877800.0            78.57   \n",
      "2           Algeria    Africa  43851043.0            76.88   \n",
      "3           Andorra    Europe     77265.0            83.73   \n",
      "4            Angola    Africa  32866268.0            61.15   \n",
      "..              ...       ...         ...              ...   \n",
      "205         Vietnam      Asia  97338583.0            75.40   \n",
      "206  Western Sahara    Africa    597330.0            70.26   \n",
      "207           Yemen      Asia  29825968.0            66.12   \n",
      "208          Zambia    Africa  18383956.0            63.89   \n",
      "209        Zimbabwe    Africa  14862927.0            61.49   \n",
      "\n",
      "     hospital_beds_per_thousand  gdp_per_capita           gdp  total_cases  \\\n",
      "0                          0.50        1803.987  7.022622e+10      38243.0   \n",
      "1                          2.89       11803.431  3.396791e+10       9728.0   \n",
      "2                          1.90       13913.839  6.101364e+11      45158.0   \n",
      "3                           NaN             NaN           NaN       1199.0   \n",
      "4                           NaN        5819.495  1.912651e+11       2729.0   \n",
      "..                          ...             ...           ...          ...   \n",
      "205                        2.60        6171.884  6.007624e+11       1046.0   \n",
      "206                         NaN             NaN           NaN        766.0   \n",
      "207                        0.70        1479.147  4.411699e+10       1976.0   \n",
      "208                        2.00        3689.251  6.782303e+10      12415.0   \n",
      "209                        1.70        1899.775  2.823622e+10       6638.0   \n",
      "\n",
      "     total_deaths  total_tests  \n",
      "0          1409.0          NaN  \n",
      "1           296.0          NaN  \n",
      "2          1525.0          NaN  \n",
      "3            53.0          NaN  \n",
      "4           109.0          NaN  \n",
      "..            ...          ...  \n",
      "205          35.0     261004.0  \n",
      "206           1.0          NaN  \n",
      "207         571.0          NaN  \n",
      "208         292.0          NaN  \n",
      "209         206.0      97272.0  \n",
      "\n",
      "[210 rows x 10 columns]\n"
     ]
    }
   ],
   "source": [
    "combined_df = countries_df.merge(covid_data_df, on='location')\n",
    "print(combined_df)"
   ]
  },
  {
   "cell_type": "markdown",
   "metadata": {},
   "source": [
    "**Q12: Add columns `tests_per_million`, `cases_per_million` and `deaths_per_million` into `combined_df`.**"
   ]
  },
  {
   "cell_type": "code",
   "execution_count": 56,
   "metadata": {},
   "outputs": [],
   "source": [
    "combined_df['tests_per_million'] = combined_df['total_tests'] * 1e6 / combined_df['population']"
   ]
  },
  {
   "cell_type": "code",
   "execution_count": 58,
   "metadata": {},
   "outputs": [],
   "source": [
    "combined_df['cases_per_million'] = combined_df['total_cases'] * 1e6 / combined_df['population']"
   ]
  },
  {
   "cell_type": "code",
   "execution_count": 59,
   "metadata": {},
   "outputs": [],
   "source": [
    "combined_df['deaths_per_million'] = combined_df['total_deaths'] * 1e6 / combined_df['population']"
   ]
  },
  {
   "cell_type": "code",
   "execution_count": 60,
   "metadata": {},
   "outputs": [
    {
     "name": "stdout",
     "output_type": "stream",
     "text": [
      "           location continent  population  life_expectancy  \\\n",
      "0       Afghanistan      Asia  38928341.0            64.83   \n",
      "1           Albania    Europe   2877800.0            78.57   \n",
      "2           Algeria    Africa  43851043.0            76.88   \n",
      "3           Andorra    Europe     77265.0            83.73   \n",
      "4            Angola    Africa  32866268.0            61.15   \n",
      "..              ...       ...         ...              ...   \n",
      "205         Vietnam      Asia  97338583.0            75.40   \n",
      "206  Western Sahara    Africa    597330.0            70.26   \n",
      "207           Yemen      Asia  29825968.0            66.12   \n",
      "208          Zambia    Africa  18383956.0            63.89   \n",
      "209        Zimbabwe    Africa  14862927.0            61.49   \n",
      "\n",
      "     hospital_beds_per_thousand  gdp_per_capita           gdp  total_cases  \\\n",
      "0                          0.50        1803.987  7.022622e+10      38243.0   \n",
      "1                          2.89       11803.431  3.396791e+10       9728.0   \n",
      "2                          1.90       13913.839  6.101364e+11      45158.0   \n",
      "3                           NaN             NaN           NaN       1199.0   \n",
      "4                           NaN        5819.495  1.912651e+11       2729.0   \n",
      "..                          ...             ...           ...          ...   \n",
      "205                        2.60        6171.884  6.007624e+11       1046.0   \n",
      "206                         NaN             NaN           NaN        766.0   \n",
      "207                        0.70        1479.147  4.411699e+10       1976.0   \n",
      "208                        2.00        3689.251  6.782303e+10      12415.0   \n",
      "209                        1.70        1899.775  2.823622e+10       6638.0   \n",
      "\n",
      "     total_deaths  total_tests  tests_per_million  cases_per_million  \\\n",
      "0          1409.0          NaN                NaN         982.394806   \n",
      "1           296.0          NaN                NaN        3380.359997   \n",
      "2          1525.0          NaN                NaN        1029.804468   \n",
      "3            53.0          NaN                NaN       15518.022390   \n",
      "4           109.0          NaN                NaN          83.033462   \n",
      "..            ...          ...                ...                ...   \n",
      "205          35.0     261004.0        2681.403324          10.745996   \n",
      "206           1.0          NaN                NaN        1282.373228   \n",
      "207         571.0          NaN                NaN          66.250993   \n",
      "208         292.0          NaN                NaN         675.317108   \n",
      "209         206.0      97272.0        6544.605918         446.614587   \n",
      "\n",
      "     deaths_per_million  \n",
      "0             36.194710  \n",
      "1            102.856349  \n",
      "2             34.776824  \n",
      "3            685.950948  \n",
      "4              3.316470  \n",
      "..                  ...  \n",
      "205            0.359570  \n",
      "206            1.674116  \n",
      "207           19.144391  \n",
      "208           15.883415  \n",
      "209           13.859989  \n",
      "\n",
      "[210 rows x 13 columns]\n"
     ]
    }
   ],
   "source": [
    "print(combined_df)"
   ]
  },
  {
   "cell_type": "markdown",
   "metadata": {},
   "source": [
    "**Q13: Create a dataframe with 10 countires that have highest number of tests per million people.**"
   ]
  },
  {
   "cell_type": "code",
   "execution_count": 62,
   "metadata": {},
   "outputs": [
    {
     "name": "stdout",
     "output_type": "stream",
     "text": [
      "                 location      continent   population  life_expectancy  \\\n",
      "197  United Arab Emirates           Asia    9890400.0            77.97   \n",
      "14                Bahrain           Asia    1701583.0            77.29   \n",
      "115            Luxembourg         Europe     625976.0            82.25   \n",
      "122                 Malta         Europe     441539.0            82.53   \n",
      "53                Denmark         Europe    5792203.0            80.90   \n",
      "96                 Israel           Asia    8655541.0            82.97   \n",
      "89                Iceland         Europe     341250.0            82.99   \n",
      "157                Russia         Europe  145934460.0            72.58   \n",
      "199         United States  North America  331002647.0            78.86   \n",
      "10              Australia        Oceania   25499881.0            83.44   \n",
      "\n",
      "     hospital_beds_per_thousand  gdp_per_capita           gdp  total_cases  \\\n",
      "197                       1.200       67293.483  6.655595e+11      71540.0   \n",
      "14                        2.000       43290.705  7.366273e+10      52440.0   \n",
      "115                       4.510       94277.965  5.901574e+10       7928.0   \n",
      "122                       4.485       36513.323  1.612206e+10       1931.0   \n",
      "53                        2.500       46682.515  2.703946e+11      17195.0   \n",
      "96                        2.990       33132.320  2.867782e+11     122539.0   \n",
      "89                        2.910       46482.958  1.586231e+10       2121.0   \n",
      "157                       8.050       24765.954  3.614206e+12    1005000.0   \n",
      "199                       2.770       54225.446  1.794877e+13    6114406.0   \n",
      "10                        3.840       44648.710  1.138537e+12      25923.0   \n",
      "\n",
      "     total_deaths  total_tests  tests_per_million  cases_per_million  \\\n",
      "197         387.0    7177430.0      725696.635121        7233.276713   \n",
      "14          190.0    1118837.0      657527.137965       30818.361490   \n",
      "115         124.0     385820.0      616349.508607       12665.022301   \n",
      "122          13.0     188539.0      427004.183096        4373.339614   \n",
      "53          626.0    2447911.0      422621.755488        2968.645954   \n",
      "96          969.0    2353984.0      271962.665303       14157.289533   \n",
      "89           10.0      88829.0      260304.761905        6215.384615   \n",
      "157       17414.0   37176827.0      254750.159763        6886.653091   \n",
      "199      185744.0   83898416.0      253467.507769       18472.377957   \n",
      "10          663.0    6255797.0      245326.517406        1016.592979   \n",
      "\n",
      "     deaths_per_million  \n",
      "197           39.128852  \n",
      "14           111.660730  \n",
      "115          198.090662  \n",
      "122           29.442473  \n",
      "53           108.076323  \n",
      "96           111.951408  \n",
      "89            29.304029  \n",
      "157          119.327539  \n",
      "199          561.155633  \n",
      "10            26.000121  \n"
     ]
    }
   ],
   "source": [
    "highest_test_df = combined_df.sort_values('tests_per_million', ascending = False).head(10)\n",
    "print(highest_test_df)"
   ]
  },
  {
   "cell_type": "markdown",
   "metadata": {},
   "source": [
    "**Q14: Create a dataframe with 10 countires that have highest number of positive cases per million people.**"
   ]
  },
  {
   "cell_type": "code",
   "execution_count": 68,
   "metadata": {},
   "outputs": [
    {
     "name": "stdout",
     "output_type": "stream",
     "text": [
      "          location      continent   population  life_expectancy  \\\n",
      "155          Qatar           Asia    2881060.0            80.23   \n",
      "14         Bahrain           Asia    1701583.0            77.29   \n",
      "147         Panama  North America    4314768.0            78.51   \n",
      "40           Chile  South America   19116209.0            80.18   \n",
      "162     San Marino         Europe      33938.0            84.97   \n",
      "9            Aruba  North America     106766.0            76.29   \n",
      "105         Kuwait           Asia    4270563.0            75.49   \n",
      "150           Peru  South America   32971846.0            76.74   \n",
      "27          Brazil  South America  212559409.0            75.88   \n",
      "199  United States  North America  331002647.0            78.86   \n",
      "\n",
      "     hospital_beds_per_thousand  gdp_per_capita           gdp  total_cases  \\\n",
      "155                        1.20      116935.600  3.368985e+11     119206.0   \n",
      "14                         2.00       43290.705  7.366273e+10      52440.0   \n",
      "147                        2.30       22267.037  9.607710e+10      94084.0   \n",
      "40                         2.11       22767.037  4.352194e+11     414739.0   \n",
      "162                        3.80       56861.470  1.929765e+09        735.0   \n",
      "9                           NaN       35973.781  3.840777e+09       2211.0   \n",
      "105                        2.00       65530.537  2.798523e+11      86478.0   \n",
      "150                        1.60       12236.706  4.034668e+11     663437.0   \n",
      "27                         2.20       14103.452  2.997821e+12    3997865.0   \n",
      "199                        2.77       54225.446  1.794877e+13    6114406.0   \n",
      "\n",
      "     total_deaths  total_tests  tests_per_million  cases_per_million  \\\n",
      "155         199.0     634745.0      220316.480740       41375.743650   \n",
      "14          190.0    1118837.0      657527.137965       30818.361490   \n",
      "147        2030.0     336345.0       77952.047480       21805.112117   \n",
      "40        11344.0    2458762.0      128621.841287       21695.671982   \n",
      "162          42.0          NaN                NaN       21657.139490   \n",
      "9            12.0          NaN                NaN       20708.839893   \n",
      "105         535.0     621616.0      145558.325682       20249.789079   \n",
      "150       29259.0     584232.0       17719.117092       20121.318048   \n",
      "27       123780.0    4797948.0       22572.268255       18808.224105   \n",
      "199      185744.0   83898416.0      253467.507769       18472.377957   \n",
      "\n",
      "     deaths_per_million  \n",
      "155           69.071800  \n",
      "14           111.660730  \n",
      "147          470.477208  \n",
      "40           593.423100  \n",
      "162         1237.550828  \n",
      "9            112.395332  \n",
      "105          125.276222  \n",
      "150          887.393445  \n",
      "27           582.331314  \n",
      "199          561.155633  \n"
     ]
    }
   ],
   "source": [
    "highest_case_df =  combined_df.sort_values('cases_per_million', ascending = False).head(10)\n",
    "print(highest_case_df)"
   ]
  },
  {
   "cell_type": "markdown",
   "metadata": {},
   "source": [
    "**Q15: Create a dataframe with 10 countires that have highest number of deaths cases per million people?**"
   ]
  },
  {
   "cell_type": "code",
   "execution_count": 65,
   "metadata": {},
   "outputs": [
    {
     "name": "stdout",
     "output_type": "stream",
     "text": [
      "           location      continent   population  life_expectancy  \\\n",
      "162      San Marino         Europe      33938.0            84.97   \n",
      "150            Peru  South America   32971846.0            76.74   \n",
      "18          Belgium         Europe   11589616.0            81.63   \n",
      "3           Andorra         Europe      77265.0            83.73   \n",
      "177           Spain         Europe   46754783.0            83.56   \n",
      "198  United Kingdom         Europe   67886004.0            81.32   \n",
      "40            Chile  South America   19116209.0            80.18   \n",
      "97            Italy         Europe   60461828.0            83.51   \n",
      "27           Brazil  South America  212559409.0            75.88   \n",
      "182          Sweden         Europe   10099270.0            82.80   \n",
      "\n",
      "     hospital_beds_per_thousand  gdp_per_capita           gdp  total_cases  \\\n",
      "162                        3.80       56861.470  1.929765e+09        735.0   \n",
      "150                        1.60       12236.706  4.034668e+11     663437.0   \n",
      "18                         5.64       42658.576  4.943965e+11      85817.0   \n",
      "3                           NaN             NaN           NaN       1199.0   \n",
      "177                        2.97       34272.360  1.602397e+12     479554.0   \n",
      "198                        2.54       39753.244  2.698689e+12     338676.0   \n",
      "40                         2.11       22767.037  4.352194e+11     414739.0   \n",
      "97                         3.18       35220.084  2.129471e+12     271515.0   \n",
      "27                         2.20       14103.452  2.997821e+12    3997865.0   \n",
      "182                        2.22       46949.283  4.741535e+11      84532.0   \n",
      "\n",
      "     total_deaths  total_tests  tests_per_million  cases_per_million  \\\n",
      "162          42.0          NaN                NaN       21657.139490   \n",
      "150       29259.0     584232.0       17719.117092       20121.318048   \n",
      "18         9898.0    2281853.0      196887.713967        7404.645676   \n",
      "3            53.0          NaN                NaN       15518.022390   \n",
      "177       29194.0    6416533.0      137238.001939       10256.790198   \n",
      "198       41514.0   13447568.0      198090.434075        4988.892850   \n",
      "40        11344.0    2458762.0      128621.841287       21695.671982   \n",
      "97        35497.0    5214766.0       86248.897403        4490.684602   \n",
      "27       123780.0    4797948.0       22572.268255       18808.224105   \n",
      "182        5820.0          NaN                NaN        8370.109919   \n",
      "\n",
      "     deaths_per_million  \n",
      "162         1237.550828  \n",
      "150          887.393445  \n",
      "18           854.040375  \n",
      "3            685.950948  \n",
      "177          624.406705  \n",
      "198          611.525168  \n",
      "40           593.423100  \n",
      "97           587.097697  \n",
      "27           582.331314  \n",
      "182          576.279276  \n"
     ]
    }
   ],
   "source": [
    "highest_death_df =  combined_df.sort_values('deaths_per_million', ascending = False).head(10)\n",
    "print(highest_death_df)"
   ]
  },
  {
   "cell_type": "markdown",
   "metadata": {},
   "source": [
    "**Q16: Count number of countries that feature in both the lists of \"highest number of tests per million\" and \"highest number of cases per million\".**"
   ]
  },
  {
   "cell_type": "code",
   "execution_count": 133,
   "metadata": {},
   "outputs": [
    {
     "name": "stdout",
     "output_type": "stream",
     "text": [
      "2\n"
     ]
    }
   ],
   "source": [
    "#countries_cases_tests = (highest_test_df.sort_values('location')['location'].reset_index(drop=True) == highest_case_df.sort_values('location')['location'].reset_index(drop=True)).sum()\n",
    "#print(countries_cases_tests)\n",
    "\n",
    "#countries_cases_tests1 = (highest_test_df.sort_index()['location'].reset_index(drop=True) == highest_case_df.sort_index()['location'].reset_index(drop=True)).sum()\n",
    "#countries_cases_tests = (highest_test_df.sort_index().index == highest_case_df.sort_index().index).sum()\n",
    "#print(countries_cases_tests)\n",
    "\n",
    "#countries_cases_tests = highest_test_df.merge(highest_case_df, on='location').shape[0]\n",
    "#print(countries_cases_tests)\n",
    "\n",
    "countries_cases_tests = highest_test_df['location'].isin(highest_case_df['location']).sum()\n",
    "print(countries_cases_tests)\n",
    "\n"
   ]
  },
  {
   "cell_type": "markdown",
   "metadata": {},
   "source": [
    "**Q17: Count number of countries that feature in both the lists \"20 countries with lowest GDP per capita\" and \"20 countries with the lowest number of hospital beds per thousand population\". Only consider countries with a population higher than 10 million while creating the list.**"
   ]
  },
  {
   "cell_type": "code",
   "execution_count": 135,
   "metadata": {},
   "outputs": [
    {
     "name": "stdout",
     "output_type": "stream",
     "text": [
      "14\n"
     ]
    }
   ],
   "source": [
    "lowest_gdp_df = combined_df[combined_df['population'] > 10e6].sort_values('gdp_per_capita', ascending = True).head(20)\n",
    "lowest_bed_df = combined_df[combined_df['population'] > 10e6].sort_values('hospital_beds_per_thousand', ascending = True).head(20)\n",
    "\n",
    "#print(lowest_gdp_df.sort_values('location')['location'])\n",
    "#print(lowest_bed_df.sort_values('location')['location'])\n",
    "\n",
    "#print(lowest_gdp_df.sort_index().index)\n",
    "#print(lowest_bed_df.sort_index().index)\n",
    "\n",
    "#countries_common_gdp_bed = (lowest_gdp_df.sort_index().index == lowest_bed_df.sort_index().index).sum()\n",
    "#print(countries_common_gdp_bed)\n",
    "\n",
    "#countries_common_gdp_bed = lowest_gdp_df.merge(lowest_bed_df,on='location').shape[0]\n",
    "#print(countries_common_gdp_bed)\n",
    "\n",
    "countries_common_gdp_bed = lowest_gdp_df['location'].isin(lowest_bed_df['location']).sum()\n",
    "print(countries_common_gdp_bed)"
   ]
  },
  {
   "cell_type": "code",
   "execution_count": null,
   "metadata": {},
   "outputs": [],
   "source": []
  },
  {
   "cell_type": "code",
   "execution_count": null,
   "metadata": {},
   "outputs": [],
   "source": []
  },
  {
   "cell_type": "code",
   "execution_count": null,
   "metadata": {},
   "outputs": [],
   "source": []
  },
  {
   "cell_type": "code",
   "execution_count": null,
   "metadata": {},
   "outputs": [],
   "source": []
  },
  {
   "cell_type": "code",
   "execution_count": null,
   "metadata": {},
   "outputs": [],
   "source": []
  },
  {
   "cell_type": "code",
   "execution_count": null,
   "metadata": {},
   "outputs": [],
   "source": []
  },
  {
   "cell_type": "code",
   "execution_count": null,
   "metadata": {},
   "outputs": [],
   "source": []
  },
  {
   "cell_type": "code",
   "execution_count": null,
   "metadata": {},
   "outputs": [],
   "source": []
  },
  {
   "cell_type": "code",
   "execution_count": null,
   "metadata": {},
   "outputs": [],
   "source": []
  },
  {
   "cell_type": "code",
   "execution_count": null,
   "metadata": {},
   "outputs": [],
   "source": []
  },
  {
   "cell_type": "code",
   "execution_count": null,
   "metadata": {},
   "outputs": [],
   "source": []
  },
  {
   "cell_type": "code",
   "execution_count": null,
   "metadata": {},
   "outputs": [],
   "source": []
  },
  {
   "cell_type": "code",
   "execution_count": null,
   "metadata": {},
   "outputs": [],
   "source": []
  },
  {
   "cell_type": "code",
   "execution_count": null,
   "metadata": {},
   "outputs": [],
   "source": []
  },
  {
   "cell_type": "code",
   "execution_count": null,
   "metadata": {},
   "outputs": [],
   "source": []
  },
  {
   "cell_type": "code",
   "execution_count": null,
   "metadata": {},
   "outputs": [],
   "source": []
  },
  {
   "cell_type": "code",
   "execution_count": null,
   "metadata": {},
   "outputs": [],
   "source": []
  },
  {
   "cell_type": "code",
   "execution_count": null,
   "metadata": {},
   "outputs": [],
   "source": []
  },
  {
   "cell_type": "code",
   "execution_count": null,
   "metadata": {},
   "outputs": [],
   "source": []
  },
  {
   "cell_type": "code",
   "execution_count": null,
   "metadata": {},
   "outputs": [],
   "source": []
  },
  {
   "cell_type": "code",
   "execution_count": null,
   "metadata": {},
   "outputs": [],
   "source": []
  },
  {
   "cell_type": "code",
   "execution_count": null,
   "metadata": {},
   "outputs": [],
   "source": []
  },
  {
   "cell_type": "code",
   "execution_count": null,
   "metadata": {},
   "outputs": [],
   "source": []
  },
  {
   "cell_type": "code",
   "execution_count": null,
   "metadata": {},
   "outputs": [],
   "source": []
  },
  {
   "cell_type": "code",
   "execution_count": null,
   "metadata": {},
   "outputs": [],
   "source": []
  },
  {
   "cell_type": "code",
   "execution_count": null,
   "metadata": {},
   "outputs": [],
   "source": []
  },
  {
   "cell_type": "code",
   "execution_count": null,
   "metadata": {},
   "outputs": [],
   "source": []
  },
  {
   "cell_type": "code",
   "execution_count": null,
   "metadata": {},
   "outputs": [],
   "source": []
  },
  {
   "cell_type": "code",
   "execution_count": null,
   "metadata": {},
   "outputs": [],
   "source": []
  },
  {
   "cell_type": "code",
   "execution_count": null,
   "metadata": {},
   "outputs": [],
   "source": []
  },
  {
   "cell_type": "code",
   "execution_count": null,
   "metadata": {},
   "outputs": [],
   "source": []
  },
  {
   "cell_type": "code",
   "execution_count": null,
   "metadata": {},
   "outputs": [],
   "source": []
  },
  {
   "cell_type": "code",
   "execution_count": null,
   "metadata": {},
   "outputs": [],
   "source": []
  },
  {
   "cell_type": "code",
   "execution_count": null,
   "metadata": {},
   "outputs": [],
   "source": []
  },
  {
   "cell_type": "code",
   "execution_count": null,
   "metadata": {},
   "outputs": [],
   "source": []
  },
  {
   "cell_type": "code",
   "execution_count": null,
   "metadata": {},
   "outputs": [],
   "source": []
  },
  {
   "cell_type": "code",
   "execution_count": null,
   "metadata": {},
   "outputs": [],
   "source": []
  },
  {
   "cell_type": "code",
   "execution_count": null,
   "metadata": {},
   "outputs": [],
   "source": []
  },
  {
   "cell_type": "code",
   "execution_count": null,
   "metadata": {},
   "outputs": [],
   "source": []
  },
  {
   "cell_type": "code",
   "execution_count": null,
   "metadata": {},
   "outputs": [],
   "source": []
  },
  {
   "cell_type": "code",
   "execution_count": null,
   "metadata": {},
   "outputs": [],
   "source": []
  },
  {
   "cell_type": "markdown",
   "metadata": {},
   "source": []
  }
 ],
 "metadata": {
  "kernelspec": {
   "display_name": "Python 3",
   "language": "python",
   "name": "python3"
  },
  "language_info": {
   "codemirror_mode": {
    "name": "ipython",
    "version": 3
   },
   "file_extension": ".py",
   "mimetype": "text/x-python",
   "name": "python",
   "nbconvert_exporter": "python",
   "pygments_lexer": "ipython3",
   "version": "3.8.5"
  }
 },
 "nbformat": 4,
 "nbformat_minor": 4
}
